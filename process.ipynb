{
 "cells": [
  {
   "cell_type": "markdown",
   "metadata": {},
   "source": [
    "## Testing pulse\n"
   ]
  },
  {
   "cell_type": "code",
   "execution_count": 1,
   "metadata": {},
   "outputs": [
    {
     "name": "stdout",
     "output_type": "stream",
     "text": [
      "Got [('forks', 0), ('pulls', 0), ('stars', 1)] for Aconex_drakov\n",
      "Got [('forks', 60), ('pulls', 11), ('stars', 127)] for Activiti_Activiti\n",
      "Got [('forks', 59), ('pulls', 18), ('stars', 271)] for airbnb_lottie-android\n",
      "Got [('forks', 156), ('pulls', 43), ('stars', 638)] for alibaba_arthas\n",
      "Got [('forks', 47), ('pulls', 18), ('stars', 175)] for alibaba_fastjson\n",
      "Got [('forks', 170), ('pulls', 16), ('stars', 474)] for alibaba_Sentinel\n",
      "Got [('forks', 161), ('pulls', 3), ('stars', 495)] for alibaba_spring-cloud-alibaba\n",
      "Got [('forks', 7), ('pulls', 0), ('stars', 22)] for android-async-http_android-async-http\n",
      "Got [Errno 2] No such file or directory: '.\\\\dump\\\\angular_angular\\\\\\\\pulls.szhat' for angular_angular\n",
      "Got [Errno 2] No such file or directory: '.\\\\dump\\\\ansible_ansible\\\\\\\\pulls.szhat' for ansible_ansible\n"
     ]
    }
   ],
   "source": [
    "from pprint import pprint\n",
    "from functools import reduce\n",
    "import brotli\n",
    "import pickle\n",
    "from collections import Counter\n",
    "from matplotlib import pyplot as plt\n",
    "from datetime import datetime, timedelta\n",
    "import glob\n",
    "\n",
    "TIME_INTERVAL_DAYS = 90\n",
    "\n",
    "def get_metric_recent_values(dir_path, metric_type, item_getter):\n",
    "    with open(f\"{dir_path}\\\\\\\\{metric_type}.szhat\", \"rb\") as handler:\n",
    "        decompressed_data = brotli.decompress(handler.read())\n",
    "    obj = pickle.loads(decompressed_data)\n",
    "    recent_time = datetime.now() - timedelta(days=TIME_INTERVAL_DAYS) \n",
    "    \n",
    "    return list(filter(lambda x: item_getter(x) > recent_time, obj))\n",
    "\n",
    "for p in glob.glob(r\".\\dump\\*\"):\n",
    "    repo_name = p.split(\"\\\\\")[-1]\n",
    "    metric_getter_pairs = {\n",
    "        \"forks\": lambda x: x.created_at,\n",
    "        \"pulls\": lambda p: p.created_at,\n",
    "        \"stars\": lambda s: s.starred_at\n",
    "    }\n",
    "\n",
    "    try:\n",
    "        for metric in metric_getter_pairs:\n",
    "                metric_getter_pairs[metric] = get_metric_recent_values(p, metric, metric_getter_pairs[metric])\n",
    "        numeric_values = list(map(lambda p: (p[0],len(p[1])), metric_getter_pairs.items()))\n",
    "        print(f\"Got {numeric_values} for {repo_name}\")\n",
    "    except FileNotFoundError as f:\n",
    "            print(f\"Got {f} for {repo_name}\")\n",
    "            continue\n"
   ]
  },
  {
   "cell_type": "markdown",
   "metadata": {},
   "source": [
    "# Testing trends\n"
   ]
  },
  {
   "cell_type": "code",
   "execution_count": 1,
   "metadata": {},
   "outputs": [
    {
     "name": "stdout",
     "output_type": "stream",
     "text": [
      "Aconex_drakov : 0\n",
      "Recent: 0.02 Old: 0.05 Diff: -0.03\n",
      "Activiti_Activiti : 1\n",
      "Recent: 1.27 Old: 1.95 Diff: -0.68\n",
      "airbnb_lottie-android : 0\n",
      "Recent: 1.06 Old: 3.12 Diff: -2.06\n",
      "alibaba_arthas : -4\n",
      "Recent: 2.49 Old: 5.60 Diff: -3.11\n",
      "alibaba_fastjson : -1\n",
      "Recent: 0.90 Old: 1.76 Diff: -0.86\n",
      "alibaba_Sentinel : 1\n",
      "Recent: 4.20 Old: 5.27 Diff: -1.07\n",
      "alibaba_spring-cloud-alibaba : 2\n",
      "Recent: 3.90 Old: 5.36 Diff: -1.46\n",
      "android-async-http_android-async-http : 1\n",
      "Recent: 0.14 Old: 1.13 Diff: -0.99\n",
      "angular_angular : -8\n",
      "Recent: 8.80 Old: 7.57 Diff: 1.23\n",
      "ansible_ansible : 7\n",
      "Recent: 5.37 Old: 5.83 Diff: -0.47\n",
      "apache_beam : 0\n",
      "Recent: 1.58 Old: 1.50 Diff: 0.07\n",
      "apache_cassandra : 0\n",
      "Recent: 0.83 Old: 0.65 Diff: 0.18\n",
      "apache_dubbo : 1\n",
      "Recent: 5.85 Old: 6.30 Diff: -0.45\n",
      "apache_hbase : 1\n",
      "Recent: 1.03 Old: 1.03 Diff: 0.00\n",
      "apache_jmeter : 0\n",
      "Recent: 0.74 Old: 0.38 Diff: 0.37\n",
      "apache_maven : 1\n",
      "Recent: 0.88 Old: 0.57 Diff: 0.31\n",
      "apache_mesos : 0\n",
      "Recent: 0.16 Old: 0.56 Diff: -0.40\n",
      "apache_nifi : -2\n",
      "Recent: 0.86 Old: 0.82 Diff: 0.03\n",
      "apache_shiro : 3\n",
      "Recent: 0.77 Old: 0.50 Diff: 0.27\n",
      "apache_solr : 0\n",
      "Recent: 0.49 Old: 1.14 Diff: -0.65\n",
      "apache_storm : 0\n",
      "Recent: 0.26 Old: 1.46 Diff: -1.20\n",
      "apache_struts : 0\n",
      "Recent: 0.13 Old: 0.26 Diff: -0.13\n",
      "apache_tomcat : 1\n",
      "Recent: 1.58 Old: 1.01 Diff: 0.56\n",
      "apache_zookeeper : 0\n",
      "Recent: 2.32 Old: 1.30 Diff: 1.02\n",
      "apereo_cas : 0\n",
      "Recent: 0.93 Old: 0.97 Diff: -0.04\n",
      "apiaryio_dredd : 0\n",
      "Recent: 0.04 Old: 0.10 Diff: -0.06\n",
      "ardalis_CleanArchitecture : 5\n",
      "Recent: 1.72 Old: 0.74 Diff: 0.97\n",
      "ava-labs_avalanchego : 1\n",
      "Recent: 0.47 Old: 0.32 Diff: 0.15\n",
      "aws_aws-sdk-java : -1\n",
      "Recent: 0.49 Old: 0.63 Diff: -0.15\n",
      "Baseflow_PhotoView : 0\n",
      "Recent: 0.31 Old: 1.16 Diff: -0.85\n",
      "bazelbuild_bazel : 2\n",
      "Recent: 1.18 Old: 1.28 Diff: -0.10\n",
      "bguerout_jongo : 0\n",
      "Recent: 0.02 Old: 0.04 Diff: -0.03\n",
      "binance-chain_bsc : 1\n",
      "Recent: 1.42 Old: 0.47 Diff: 0.95\n"
     ]
    },
    {
     "ename": "IndexError",
     "evalue": "list index out of range",
     "output_type": "error",
     "traceback": [
      "\u001b[1;31m---------------------------------------------------------------------------\u001b[0m",
      "\u001b[1;31mIndexError\u001b[0m                                Traceback (most recent call last)",
      "\u001b[1;32m~\\AppData\\Local\\Temp/ipykernel_231448/2960854311.py\u001b[0m in \u001b[0;36m<module>\u001b[1;34m\u001b[0m\n\u001b[0;32m     30\u001b[0m         \u001b[0mold_dates\u001b[0m\u001b[1;33m,\u001b[0m \u001b[0mrecent_dates\u001b[0m \u001b[1;33m=\u001b[0m \u001b[0mpartition_li_alt\u001b[0m\u001b[1;33m(\u001b[0m\u001b[1;32mlambda\u001b[0m \u001b[0md\u001b[0m\u001b[1;33m:\u001b[0m \u001b[0md\u001b[0m\u001b[1;33m[\u001b[0m\u001b[1;36m0\u001b[0m\u001b[1;33m]\u001b[0m \u001b[1;33m>=\u001b[0m \u001b[0mlists\u001b[0m\u001b[1;33m[\u001b[0m\u001b[1;33m-\u001b[0m\u001b[1;36m1\u001b[0m\u001b[1;33m]\u001b[0m\u001b[1;33m[\u001b[0m\u001b[1;36m0\u001b[0m\u001b[1;33m]\u001b[0m \u001b[1;33m-\u001b[0m \u001b[0mtimedelta\u001b[0m\u001b[1;33m(\u001b[0m\u001b[0mdays\u001b[0m\u001b[1;33m=\u001b[0m\u001b[0mDAYS_THRESHHOLD\u001b[0m\u001b[1;33m)\u001b[0m \u001b[1;33m,\u001b[0m\u001b[0mlists\u001b[0m\u001b[1;33m)\u001b[0m\u001b[1;33m\u001b[0m\u001b[1;33m\u001b[0m\u001b[0m\n\u001b[0;32m     31\u001b[0m \u001b[1;33m\u001b[0m\u001b[0m\n\u001b[1;32m---> 32\u001b[1;33m         \u001b[0mtotal_days\u001b[0m \u001b[1;33m=\u001b[0m \u001b[1;33m(\u001b[0m\u001b[0mold_dates\u001b[0m\u001b[1;33m[\u001b[0m\u001b[1;33m-\u001b[0m\u001b[1;36m1\u001b[0m\u001b[1;33m]\u001b[0m\u001b[1;33m[\u001b[0m\u001b[1;36m0\u001b[0m\u001b[1;33m]\u001b[0m \u001b[1;33m-\u001b[0m \u001b[0mold_dates\u001b[0m\u001b[1;33m[\u001b[0m\u001b[1;36m0\u001b[0m\u001b[1;33m]\u001b[0m\u001b[1;33m[\u001b[0m\u001b[1;36m0\u001b[0m\u001b[1;33m]\u001b[0m\u001b[1;33m)\u001b[0m\u001b[1;33m.\u001b[0m\u001b[0mdays\u001b[0m\u001b[1;33m\u001b[0m\u001b[1;33m\u001b[0m\u001b[0m\n\u001b[0m\u001b[0;32m     33\u001b[0m         \u001b[0mrecent_days\u001b[0m \u001b[1;33m=\u001b[0m \u001b[1;33m(\u001b[0m\u001b[0mrecent_dates\u001b[0m\u001b[1;33m[\u001b[0m\u001b[1;33m-\u001b[0m\u001b[1;36m1\u001b[0m\u001b[1;33m]\u001b[0m\u001b[1;33m[\u001b[0m\u001b[1;36m0\u001b[0m\u001b[1;33m]\u001b[0m \u001b[1;33m-\u001b[0m \u001b[0mrecent_dates\u001b[0m\u001b[1;33m[\u001b[0m\u001b[1;36m0\u001b[0m\u001b[1;33m]\u001b[0m\u001b[1;33m[\u001b[0m\u001b[1;36m0\u001b[0m\u001b[1;33m]\u001b[0m\u001b[1;33m)\u001b[0m\u001b[1;33m.\u001b[0m\u001b[0mdays\u001b[0m\u001b[1;33m\u001b[0m\u001b[1;33m\u001b[0m\u001b[0m\n\u001b[0;32m     34\u001b[0m         \u001b[0m_\u001b[0m\u001b[1;33m,\u001b[0m \u001b[0mold_values\u001b[0m \u001b[1;33m=\u001b[0m \u001b[0mzip\u001b[0m\u001b[1;33m(\u001b[0m\u001b[1;33m*\u001b[0m\u001b[0mold_dates\u001b[0m\u001b[1;33m)\u001b[0m\u001b[1;33m\u001b[0m\u001b[1;33m\u001b[0m\u001b[0m\n",
      "\u001b[1;31mIndexError\u001b[0m: list index out of range"
     ]
    }
   ],
   "source": [
    "from pprint import pprint\n",
    "from functools import reduce\n",
    "import brotli\n",
    "import pickle\n",
    "from collections import Counter\n",
    "from matplotlib import pyplot as plt\n",
    "from datetime import datetime, timedelta\n",
    "import glob\n",
    "\n",
    "DAYS_THRESHHOLD = 180\n",
    "\n",
    "def partition_li_alt(predicate, data):\n",
    "   x = [], []\n",
    "   for n in data: x[predicate(n)].append(n)\n",
    "   return x\n",
    "\n",
    "for p in glob.glob(r\".\\dump\\*\\forks.szhat\"):\n",
    "    with (\n",
    "        open(p, \"rb\") as handler, \n",
    "        # open(p.replace(\"dump\", \"intermediate\").replace(\"szhat\", \"pickle\"), \"rb\") as f\n",
    "        ):\n",
    "        data = handler.read()\n",
    "        decompressed_data = brotli.decompress(data)\n",
    "        obj = pickle.loads(decompressed_data)\n",
    "        # metrics = pickle.load(f)\n",
    "\n",
    "        values = Counter(map(lambda o: o.created_at.date(), obj))\n",
    "        lists = sorted(values.items()) \n",
    "        repo_name = p.split(\"\\\\\")[-2], lists[-1][0]\n",
    "        old_dates, recent_dates = partition_li_alt(lambda d: d[0] >= lists[-1][0] - timedelta(days=DAYS_THRESHHOLD) ,lists)\n",
    "        \n",
    "        total_days = (old_dates[-1][0] - old_dates[0][0]).days \n",
    "        recent_days = (recent_dates[-1][0] - recent_dates[0][0]).days \n",
    "        _, old_values = zip(*old_dates)\n",
    "        _, recent_values = zip(*recent_dates)\n",
    "        old_mean = sum(old_values)/total_days\n",
    "        recent_mean = sum(recent_values)/recent_days\n",
    "\n",
    "        if len(recent_dates) > 2:\n",
    "            velocity = [(nxt[0], nxt[1] - prev[1]) for nxt, prev in zip(recent_dates[1:],recent_dates[:-2])]\n",
    "            x, y = zip(*velocity) \n",
    "            print(p.split(\"\\\\\")[-2], f\": {sum(y)}\")\n",
    "            print(f\"Recent: {recent_mean:.2f} Old: {old_mean:.2f} Diff: {recent_mean-old_mean:.2f}\")\n"
   ]
  },
  {
   "cell_type": "markdown",
   "metadata": {},
   "source": [
    "## Testing distributions"
   ]
  },
  {
   "cell_type": "code",
   "execution_count": 15,
   "metadata": {},
   "outputs": [
    {
     "name": "stdout",
     "output_type": "stream",
     "text": [
      "[11, 151, 193, 233, 243, 261, 273, 289, 297, 310, 395, 412, 414, 462, 487, 563, 569, 576, 618, 703, 713, 735, 743, 756, 765, 816, 846, 849, 899, 913, 921, 939, 959, 982, 1016, 1017, 1018, 1038, 1069, 1112, 1124, 1193, 1202, 1207, 1232, 1235, 1292, 1304, 1319, 1335, 1358, 1361, 1370, 1438, 1456, 1489, 1527, 1543, 1599, 1609, 1631, 1639, 1639, 1659, 1674, 1838, 1854, 1864, 1924, 1934, 1965, 2070, 2070, 2081, 2109, 2121, 2203, 2368, 2450, 2480, 2512, 2612, 2746, 2752, 2787, 2803, 2860, 2898, 2947, 2981, 3029, 3096, 3115, 3120, 3170, 3304, 3379, 3406, 3539, 3588, 3620, 3699, 3844, 3867, 3869, 3933, 3937, 3952, 3962, 3985, 4238, 4279, 4403, 4403, 4545, 4753, 4885, 4926, 4950, 5115, 5137, 5172, 5261, 5375, 5405, 5437, 5491, 5492, 5661, 5663, 5803, 5948, 6088, 6118, 6164, 6165, 6402, 6540, 6863, 6896, 6941, 7144, 7600, 7664, 7778, 7811, 7909, 7977, 8827, 9475, 9636, 9860, 9903, 10092, 10460, 10631, 10768, 10817, 11077, 11496, 11541, 11773, 12340, 12790, 13126, 13393, 13443, 14313, 14784, 15822, 16791, 17501, 18143, 18838, 19370, 20323, 22062, 22499, 23722, 27038, 27667, 29212, 31006, 31342, 31695, 33534, 33865, 34667, 35399, 39565, 43295]\n",
      "Mean: 6544.225130890052\n",
      "StDev: 8524.22051238623\n",
      "Left:6230.907664481126 Right: 6857.542597298979\n"
     ]
    },
    {
     "data": {
      "text/plain": [
       "<BarContainer object of 188 artists>"
      ]
     },
     "execution_count": 15,
     "metadata": {},
     "output_type": "execute_result"
    },
    {
     "data": {
      "image/png": "[encoded data removed]",
      "text/plain": [
       "<Figure size 432x288 with 1 Axes>"
      ]
     },
     "metadata": {
      "needs_background": "light"
     },
     "output_type": "display_data"
    }
   ],
   "source": [
    "from pprint import pprint\n",
    "from functools import reduce\n",
    "import brotli\n",
    "import pickle\n",
    "from collections import Counter, defaultdict\n",
    "from matplotlib import pyplot as plt\n",
    "from datetime import datetime, timedelta\n",
    "from statistics import stdev, mean\n",
    "import math\n",
    "import glob\n",
    "\n",
    "\n",
    "data = defaultdict(lambda:0)\n",
    "stars_lst = []\n",
    "\n",
    "SCALE_FACTOR = 0\n",
    "METRIC = \"commits\"\n",
    "max1 = 0\n",
    "\n",
    "for p in glob.glob(f\".\\intermediate\\*\\{METRIC}.pickle\"):\n",
    "    with open(p, \"rb\") as file:\n",
    "        metric = pickle.load(file)\n",
    "        dic = metric.__dict__\n",
    "        stars = dic[f\"[{METRIC.title()}] Count\"]\n",
    "\n",
    "        # if stars < 20000:\n",
    "        data[round(stars,-SCALE_FACTOR)] +=1\n",
    "        stars_lst.append(stars)\n",
    "\n",
    "lists = sorted(data.items())\n",
    "stars_array = sorted(data.keys())\n",
    "x, y = zip(*lists) \n",
    "\n",
    "mean_val =mean(stars_lst)\n",
    "std_val = stdev(stars_lst)\n",
    "za = 0.50798\n",
    "print(sorted(stars_lst))\n",
    "print(f\"Mean: {mean_val}\")\n",
    "print(f\"StDev: {std_val}\")\n",
    "print(f\"Left:{mean_val - std_val*za/math.sqrt(len(stars_lst))} Right: {mean_val + std_val*za/math.sqrt(len(stars_lst))}\")\n",
    "plt.bar(x,y, width=pow(10, SCALE_FACTOR))"
   ]
  },
  {
   "cell_type": "markdown",
   "metadata": {},
   "source": [
    "## Gathering the data"
   ]
  },
  {
   "cell_type": "code",
   "execution_count": 2,
   "metadata": {},
   "outputs": [
    {
     "name": "stdout",
     "output_type": "stream",
     "text": [
      "Metrics count: 107\n",
      "Repo    count: 222\n",
      "At least 91 metric values are missing\n"
     ]
    }
   ],
   "source": [
    "import glob\n",
    "import pickle\n",
    "from collections import defaultdict\n",
    "from pprint import pprint\n",
    "import pandas as pd\n",
    "from main import METRICS, find_missing_metrics\n",
    "\n",
    "\n",
    "repo_dicts = defaultdict(lambda: {})\n",
    "metric_dicts = defaultdict(lambda: defaultdict(lambda: {}))\n",
    "for p in glob.glob(\".\\intermediate\\*\\*.pickle\"):\n",
    "    with open(p, \"rb\") as file:\n",
    "        metric = pickle.load(file)\n",
    "        dic = metric.__dict__\n",
    "        repo_name = dic.pop(\"repo_name\")\n",
    "        metric_type = p.split('\\\\')[-1].split(\".\")[0]\n",
    "\n",
    "        metric_dicts[metric_type][repo_name] |= dic\n",
    "        repo_dicts[repo_name] |= dic\n",
    "        \n",
    "data = pd.DataFrame.from_dict(repo_dicts)\n",
    "data.to_csv(\"metrics.csv\",index=True)\n",
    "\n",
    "print(f\"Metrics count: {len(data)}\")\n",
    "print(f\"Repo    count: {len(data.keys())}\")\n",
    "print(f\"At least {sum(map(len, find_missing_metrics().values()))} metric values are missing\")"
   ]
  },
  {
   "cell_type": "markdown",
   "metadata": {},
   "source": [
    "## Working with the data"
   ]
  },
  {
   "cell_type": "code",
   "execution_count": 4,
   "metadata": {},
   "outputs": [
    {
     "name": "stdout",
     "output_type": "stream",
     "text": [
      "Have releases: 152\n",
      "Have no releases: 70\n",
      "Have source code releases: 77\n",
      "Have binary and source code releases: 75\n"
     ]
    }
   ],
   "source": [
    "name_predicate_pairs= [\n",
    "    (\"Have releases\", lambda inner: inner.get(\"[Releases] Count\")),\n",
    "    (\"Have no releases\", lambda inner: not inner.get(\"[Releases] Count\")),\n",
    "    (\"Have source code releases\", lambda inner: inner.get(\"[Releases] Count\") and not inner.get(\"[Releases] Total downloads\")),\n",
    "    (\"Have binary and source code releases\", lambda inner: inner.get(\"[Releases] Count\") and inner.get(\"[Releases] Total downloads\")),\n",
    "    ]\n",
    "\n",
    "\n",
    "gathered_data = {\n",
    "    name: {repo: inner for repo, inner in repo_dicts.items() if func(inner)}\n",
    "    for name, func in name_predicate_pairs\n",
    "}\n",
    "\n",
    "for type, inner in gathered_data.items():\n",
    "    print(f\"{type}: {len(inner)}\")\n",
    "    # display(pd.DataFrame(inner))"
   ]
  },
  {
   "cell_type": "markdown",
   "metadata": {},
   "source": [
    "## Calculating correlations"
   ]
  },
  {
   "cell_type": "code",
   "execution_count": 87,
   "metadata": {},
   "outputs": [
    {
     "name": "stderr",
     "output_type": "stream",
     "text": [
      "C:\\Users\\79134\\AppData\\Local\\Temp/ipykernel_231448/520343286.py:44: FutureWarning: The pandas.np module is deprecated and will be removed from pandas in a future version. Import numpy directly instead\n",
      "  frame = pd.DataFrame(pd.np.triu(correlations), index=data.index, columns=data.index)\n"
     ]
    }
   ],
   "source": [
    "from itertools import combinations_with_replacement\n",
    "from IPython.display import display, Markdown, Latex\n",
    "\n",
    "LOWER_BOUND = 0.65\n",
    "\n",
    "def prune_dict(dct, mask):\n",
    "    result = {}\n",
    "    for k, v in mask.items():\n",
    "        if isinstance(v, dict):\n",
    "            value = prune_dict(dct[k], v)\n",
    "            if value:\n",
    "                result[k] = value\n",
    "        elif v:\n",
    "            result[k] = dct[k]\n",
    "    return result\n",
    "\n",
    "def print_correlations(dic):\n",
    "    for g1, g2 in combinations_with_replacement(dic.items(), 2):\n",
    "        m1, inner_dict1 = g1\n",
    "        m2, inner_dict2 = g2\n",
    "\n",
    "        res = {name:inner_dict1[name] | inner_dict2[name] for name in inner_dict1}\n",
    "        res_df = pd.DataFrame(res).transpose().corr(method='pearson')\n",
    "        metric1_names = list(list(inner_dict1.values())[0].keys())\n",
    "        metric2_names = list(list(inner_dict2.values())[0].keys())\n",
    "        df = res_df[metric1_names].loc[metric2_names]\n",
    "        \n",
    "        # df = df[df[df.columns] > 0.7]\n",
    "        mask = df.where(df != 1).where(df != 0).where(abs(df) > LOWER_BOUND)\n",
    "        mask = mask.dropna(how=\"all\").dropna(axis=\"columns\", how=\"all\")\n",
    "        mask = mask.iloc[:, :-1].notnull().astype(float).groupby(level=0).sum().to_dict()\n",
    "        tmp = prune_dict(df.to_dict(), mask)\n",
    "\n",
    "        if tmp:\n",
    "            display(Markdown(f\"# {m1} X {m2}\"))\n",
    "            for name, val in tmp.items():   \n",
    "                # print(tmp)\n",
    "                display(pd.DataFrame({name: val}))\n",
    "        # display(pd.DataFrame(df))\n",
    "\n",
    "# for data, name in zip([data, downloads_data, no_downloads_data], [\"correlations\", \"downloads_correlations\", \"no_downloads_correlations\"]):\n",
    "values = {name:data.loc[name] for name in data.index}\n",
    "correlations = pd.DataFrame(values).corr(method='pearson').values\n",
    "frame = pd.DataFrame(pd.np.triu(correlations), index=data.index, columns=data.index)\n",
    "frame.to_csv('correlations.csv', index=True)\n",
    "\n",
    "# print_correlations(metric_dicts)"
   ]
  }
 ],
 "metadata": {
  "interpreter": {
   "hash": "2d916437dd1683689eb36e3438d4ee7e570e437fffc7254f09abf314d1dcc34a"
  },
  "kernelspec": {
   "display_name": "Python 3.10.0 64-bit ('ven310': venv)",
   "name": "python3"
  },
  "language_info": {
   "codemirror_mode": {
    "name": "ipython",
    "version": 3
   },
   "file_extension": ".py",
   "mimetype": "text/x-python",
   "name": "python",
   "nbconvert_exporter": "python",
   "pygments_lexer": "ipython3",
   "version": "3.10.0"
  },
  "orig_nbformat": 4
 },
 "nbformat": 4,
 "nbformat_minor": 2
}
